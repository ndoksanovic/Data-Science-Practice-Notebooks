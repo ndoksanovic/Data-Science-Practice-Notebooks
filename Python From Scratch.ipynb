{
    "cells": [
        {
            "cell_type": "markdown",
            "metadata": {},
            "source": "# 1. Learning Python"
        },
        {
            "cell_type": "markdown",
            "metadata": {
                "collapsed": true
            },
            "source": "#### 1.1. Basics"
        },
        {
            "cell_type": "code",
            "execution_count": 1,
            "metadata": {},
            "outputs": [
                {
                    "name": "stdout",
                    "output_type": "stream",
                    "text": "Hello world!\n"
                }
            ],
            "source": "print(\"Hello world!\")"
        },
        {
            "cell_type": "code",
            "execution_count": 2,
            "metadata": {},
            "outputs": [
                {
                    "data": {
                        "text/plain": "4"
                    },
                    "execution_count": 2,
                    "metadata": {},
                    "output_type": "execute_result"
                }
            ],
            "source": "2+2"
        },
        {
            "cell_type": "code",
            "execution_count": 5,
            "metadata": {},
            "outputs": [
                {
                    "name": "stdout",
                    "output_type": "stream",
                    "text": "Hello world!\n"
                }
            ],
            "source": "def main():                     #def is a keyword that defines a function\n    print(\"Hello world!\")       #function\nmain()                          #calling the function"
        },
        {
            "cell_type": "markdown",
            "metadata": {},
            "source": "#### 1.2. Variables"
        },
        {
            "cell_type": "code",
            "execution_count": 6,
            "metadata": {},
            "outputs": [
                {
                    "name": "stdout",
                    "output_type": "stream",
                    "text": "0\n"
                }
            ],
            "source": "f=0                             #defining a variable\nprint(f)                        #calling the print function to print out the variable"
        },
        {
            "cell_type": "code",
            "execution_count": 9,
            "metadata": {},
            "outputs": [
                {
                    "name": "stdout",
                    "output_type": "stream",
                    "text": "abc\n"
                }
            ],
            "source": "f=\"abc\"\nprint(f)"
        },
        {
            "cell_type": "code",
            "execution_count": 11,
            "metadata": {},
            "outputs": [
                {
                    "name": "stdout",
                    "output_type": "stream",
                    "text": "this is a string123\n"
                }
            ],
            "source": "print(\"this is a string\" + \"123\")"
        },
        {
            "cell_type": "code",
            "execution_count": 12,
            "metadata": {},
            "outputs": [
                {
                    "name": "stdout",
                    "output_type": "stream",
                    "text": "this is a string 123\n"
                }
            ],
            "source": "print(\"this is a string\", \"123\")"
        },
        {
            "cell_type": "code",
            "execution_count": 13,
            "metadata": {},
            "outputs": [
                {
                    "name": "stdout",
                    "output_type": "stream",
                    "text": "this is a string 123\n"
                }
            ],
            "source": "print(\"this is a string\", 123)"
        },
        {
            "cell_type": "code",
            "execution_count": 14,
            "metadata": {},
            "outputs": [
                {
                    "name": "stdout",
                    "output_type": "stream",
                    "text": "this is a string 123\n"
                }
            ],
            "source": "print(\"this is a string\", str(123))"
        },
        {
            "cell_type": "markdown",
            "metadata": {},
            "source": "#### 1.3. Functions"
        },
        {
            "cell_type": "code",
            "execution_count": 16,
            "metadata": {},
            "outputs": [
                {
                    "name": "stdout",
                    "output_type": "stream",
                    "text": "I am a function\n"
                }
            ],
            "source": "def function1():                          #defining a function\n    print(\"I am a function\")\nfunction1()                               #executing function"
        },
        {
            "cell_type": "code",
            "execution_count": 18,
            "metadata": {},
            "outputs": [
                {
                    "name": "stdout",
                    "output_type": "stream",
                    "text": "20   30\n"
                }
            ],
            "source": "def function2(arg1, arg2):                #function with arguments\n    print(arg1, \" \", arg2)\nfunction2(20,30)    "
        },
        {
            "cell_type": "code",
            "execution_count": 19,
            "metadata": {},
            "outputs": [
                {
                    "data": {
                        "text/plain": "27"
                    },
                    "execution_count": 19,
                    "metadata": {},
                    "output_type": "execute_result"
                }
            ],
            "source": "def cube(x):                              #function that returns a value\n    return x*x*x\ncube(3)"
        },
        {
            "cell_type": "code",
            "execution_count": 20,
            "metadata": {},
            "outputs": [
                {
                    "name": "stdout",
                    "output_type": "stream",
                    "text": "43\n"
                }
            ],
            "source": "def multi_add(*args):                    #multiple variable function\n    result=0\n    for x in args:\n        result=result+x\n    return result\n\nprint(multi_add(4,5,10,24))"
        },
        {
            "cell_type": "markdown",
            "metadata": {},
            "source": "#### 1.4. conditional structures"
        },
        {
            "cell_type": "code",
            "execution_count": 30,
            "metadata": {},
            "outputs": [
                {
                    "name": "stdout",
                    "output_type": "stream",
                    "text": "x is less than y\n"
                }
            ],
            "source": "x=10\ny=100\nif (x<y):                               #condition (if statement)\n    st = \"x is less than y\"\n    \nprint(st)    "
        },
        {
            "cell_type": "code",
            "execution_count": 35,
            "metadata": {},
            "outputs": [
                {
                    "name": "stdout",
                    "output_type": "stream",
                    "text": "x is greater than y\n"
                }
            ],
            "source": "x=100\ny=10\nif (x<y):                                #if first condition is not met we add alternative output (else statement)\n    st = \"x is less than y\"             \nelse:\n    st =\"x is greater than y\" \nprint(st)"
        },
        {
            "cell_type": "code",
            "execution_count": 37,
            "metadata": {},
            "outputs": [
                {
                    "name": "stdout",
                    "output_type": "stream",
                    "text": "x is equal to y\n"
                }
            ],
            "source": "x=100\ny=100\nif (x<y):                                    #if first condition is not met, we can put another condition (elif statement)\n    st=\"x is less than y\"\nelif (x==y):\n    st=\"x is equal to y\"\nelse:\n    st=\"x is greater than y\"\nprint(st)    \n    "
        },
        {
            "cell_type": "markdown",
            "metadata": {},
            "source": "#### 1.5. Loops"
        },
        {
            "cell_type": "code",
            "execution_count": 39,
            "metadata": {},
            "outputs": [
                {
                    "name": "stdout",
                    "output_type": "stream",
                    "text": "0\n1\n2\n3\n4\n"
                }
            ],
            "source": "x=0\nwhile (x<5):                       #while loop: python will keep executing outputs until it reaches the condition set in while loop function\n    print(x)\n    x=x+1"
        },
        {
            "cell_type": "code",
            "execution_count": 40,
            "metadata": {},
            "outputs": [
                {
                    "name": "stdout",
                    "output_type": "stream",
                    "text": "5\n6\n7\n8\n9\n"
                }
            ],
            "source": "for x in range (5,10):              #for loop\n    print(x)"
        },
        {
            "cell_type": "code",
            "execution_count": 44,
            "metadata": {},
            "outputs": [
                {
                    "name": "stdout",
                    "output_type": "stream",
                    "text": "5\n6\n"
                }
            ],
            "source": "for x in range(5,10):\n    if(x==7):break                   #loop will stop once it meets the condition\n    print(x)"
        },
        {
            "cell_type": "code",
            "execution_count": 49,
            "metadata": {},
            "outputs": [
                {
                    "name": "stdout",
                    "output_type": "stream",
                    "text": "0 Mon\n1 Tue\n2 Wed\n3 Thu\n4 Fri\n5 Sat\n6 Sun\n"
                }
            ],
            "source": "days=[\"Mon\", \"Tue\", \"Wed\",\"Thu\",\"Fri\",\"Sat\",\"Sun\"]\nfor i,d in enumerate(days):\n    print(i,d)                      #enumerating days of the week in for loop"
        },
        {
            "cell_type": "markdown",
            "metadata": {},
            "source": "#### 1.6. Classes"
        },
        {
            "cell_type": "code",
            "execution_count": 54,
            "metadata": {},
            "outputs": [
                {
                    "name": "stdout",
                    "output_type": "stream",
                    "text": "My Class 1\nMy Class 2 This is a string\n"
                }
            ],
            "source": "class myClass():\n    def method1(self):\n        print(\"My Class 1\")\n    \n    def method2(self, someString):\n        print(\"My Class 2 \" + someString)\ndef main():\n    c=myClass()\n    c.method1()\n    c.method2(\"This is a string\")\nmain()"
        },
        {
            "cell_type": "markdown",
            "metadata": {},
            "source": "   #### 1.7. Time, Date and Datetime classes"
        },
        {
            "cell_type": "code",
            "execution_count": 61,
            "metadata": {},
            "outputs": [],
            "source": "from datetime import date                     #libraries that manipulate dates and time\nfrom datetime import time\nfrom datetime import datetime"
        },
        {
            "cell_type": "code",
            "execution_count": 62,
            "metadata": {},
            "outputs": [
                {
                    "name": "stdout",
                    "output_type": "stream",
                    "text": "Today's date is:  2020-06-17\n"
                }
            ],
            "source": "today=date.today()\nprint(\"Today's date is: \", today)"
        },
        {
            "cell_type": "code",
            "execution_count": 63,
            "metadata": {},
            "outputs": [
                {
                    "name": "stdout",
                    "output_type": "stream",
                    "text": "Date components:  17 6 2020\n"
                }
            ],
            "source": "print(\"Date components: \", today.day, today.month, today.year)"
        },
        {
            "cell_type": "code",
            "execution_count": 67,
            "metadata": {},
            "outputs": [
                {
                    "name": "stdout",
                    "output_type": "stream",
                    "text": "Today's weekday number is:  2\nWhich is a:  Wed\n"
                }
            ],
            "source": "print(\"Today's weekday number is: \", today.weekday())\ndays=[\"Mon\", \"Tue\", \"Wed\", \"Thu\", \"Fri\", \"Sat\", \"Sun\"]\nprint(\"Which is a: \", days[today.weekday()])"
        },
        {
            "cell_type": "code",
            "execution_count": 68,
            "metadata": {},
            "outputs": [
                {
                    "name": "stdout",
                    "output_type": "stream",
                    "text": "The current date and time is:  2020-06-17 17:37:17.464537\n"
                }
            ],
            "source": "today=datetime.now()\nprint(\"The current date and time is: \", today)"
        },
        {
            "cell_type": "code",
            "execution_count": 69,
            "metadata": {},
            "outputs": [
                {
                    "name": "stdout",
                    "output_type": "stream",
                    "text": "17:38:13.540329\n"
                }
            ],
            "source": "t=datetime.time(datetime.now())\nprint(t)"
        },
        {
            "cell_type": "markdown",
            "metadata": {},
            "source": "#### 1.7.1. Formatting Time Output"
        },
        {
            "cell_type": "code",
            "execution_count": 71,
            "metadata": {},
            "outputs": [
                {
                    "name": "stdout",
                    "output_type": "stream",
                    "text": "The current year is: 2020\n"
                }
            ],
            "source": "now=datetime.now()\nprint(now.strftime(\"The current year is: %Y\"))"
        },
        {
            "cell_type": "code",
            "execution_count": 75,
            "metadata": {},
            "outputs": [
                {
                    "name": "stdout",
                    "output_type": "stream",
                    "text": "Wednesday, 06/17/20, June, 2020\n"
                }
            ],
            "source": "print(now.strftime(\"%A, %D, %B, %Y\"))"
        },
        {
            "cell_type": "code",
            "execution_count": 76,
            "metadata": {},
            "outputs": [
                {
                    "name": "stdout",
                    "output_type": "stream",
                    "text": "Wed, 17, Jun, 20\n"
                }
            ],
            "source": "print(now.strftime(\"%a, %d, %b, %y\"))"
        },
        {
            "cell_type": "code",
            "execution_count": 80,
            "metadata": {},
            "outputs": [
                {
                    "name": "stdout",
                    "output_type": "stream",
                    "text": "Local date and time: Wed Jun 17 17:41:59 2020\nLocal date: 06/17/20\nLocal time: 17:41:59\n"
                }
            ],
            "source": "print(now.strftime(\"Local date and time: %c\"))\nprint(now.strftime(\"Local date: %x\"))\nprint(now.strftime(\"Local time: %X\"))"
        },
        {
            "cell_type": "code",
            "execution_count": 81,
            "metadata": {},
            "outputs": [
                {
                    "name": "stdout",
                    "output_type": "stream",
                    "text": "Current time: 05:41:59 PM\n24-hour time: 17:41\n"
                }
            ],
            "source": "print(now.strftime(\"Current time: %I:%M:%S %p\"))\nprint(now.strftime(\"24-hour time: %H:%M\"))"
        },
        {
            "cell_type": "markdown",
            "metadata": {},
            "source": "#### 1.7.2. Using timedelta objects"
        },
        {
            "cell_type": "code",
            "execution_count": 82,
            "metadata": {},
            "outputs": [],
            "source": "from datetime import timedelta"
        },
        {
            "cell_type": "code",
            "execution_count": 83,
            "metadata": {},
            "outputs": [
                {
                    "name": "stdout",
                    "output_type": "stream",
                    "text": "365 days, 5:01:00\n"
                }
            ],
            "source": "print(timedelta(days=365, hours=5, minutes=1))"
        },
        {
            "cell_type": "code",
            "execution_count": 87,
            "metadata": {},
            "outputs": [
                {
                    "name": "stdout",
                    "output_type": "stream",
                    "text": "today is: 2020-06-17 17:54:30.723126\none year from now will be: 2021-06-17 17:54:30.723126\n"
                }
            ],
            "source": "now=datetime.now()\nprint(\"today is: \" + str(now))\nprint(\"one year from now will be: \" + str(now+timedelta(days=365)))"
        },
        {
            "cell_type": "code",
            "execution_count": 89,
            "metadata": {},
            "outputs": [
                {
                    "name": "stdout",
                    "output_type": "stream",
                    "text": "In 2 days and 3 weeks it will be: 2020-07-10 17:54:30.723126\n"
                }
            ],
            "source": "print(\"In 2 days and 3 weeks it will be: \" + str(now+timedelta(days=2, weeks=3)))"
        },
        {
            "cell_type": "code",
            "execution_count": 90,
            "metadata": {},
            "outputs": [
                {
                    "name": "stdout",
                    "output_type": "stream",
                    "text": "One week ago it was: 2020-06-10 17:54:30.723126\n"
                }
            ],
            "source": "print(\"One week ago it was: \" + str(now-timedelta(weeks=1)))"
        },
        {
            "cell_type": "code",
            "execution_count": 93,
            "metadata": {},
            "outputs": [
                {
                    "name": "stdout",
                    "output_type": "stream",
                    "text": "One week ago it was: Wednesday, June, 06/10/20, 2020\n"
                }
            ],
            "source": "t=datetime.now()-timedelta(weeks=1)\ns=t.strftime(\"%A, %B, %D, %Y\")\nprint(\"One week ago it was: \" + s)"
        },
        {
            "cell_type": "code",
            "execution_count": 94,
            "metadata": {},
            "outputs": [
                {
                    "name": "stdout",
                    "output_type": "stream",
                    "text": "April Fool's Day already went by 77 days ago\nIt's just  288 days until April Fool's Day\n"
                }
            ],
            "source": "#how many days until April Fool's Day?\n\ntoday=date.today()\nafd=date(today.year, 4, 1)\nif afd<today:\n    print(\"April Fool's Day already went by %d days ago\" % ((today-afd).days))\n    afd=afd.replace(year=today.year+1)\ntime_to_afd=afd-today\nprint(\"It's just \", time_to_afd.days, \"days until April Fool's Day\")"
        },
        {
            "cell_type": "markdown",
            "metadata": {},
            "source": "#### 1.7.3. Working with calendars"
        },
        {
            "cell_type": "code",
            "execution_count": 95,
            "metadata": {},
            "outputs": [],
            "source": "import calendar                             #import calendar module"
        },
        {
            "cell_type": "code",
            "execution_count": 99,
            "metadata": {},
            "outputs": [
                {
                    "name": "stdout",
                    "output_type": "stream",
                    "text": "     June 2020\nMo Tu We Th Fr Sa Su\n 1  2  3  4  5  6  7\n 8  9 10 11 12 13 14\n15 16 17 18 19 20 21\n22 23 24 25 26 27 28\n29 30\n\n"
                }
            ],
            "source": "c=calendar.TextCalendar(calendar.MONDAY)    #creating plain text calendar\nst=c.formatmonth(2020, 6, 0, 0)\nprint(st)"
        },
        {
            "cell_type": "code",
            "execution_count": 101,
            "metadata": {},
            "outputs": [
                {
                    "name": "stdout",
                    "output_type": "stream",
                    "text": "<table border=\"0\" cellpadding=\"0\" cellspacing=\"0\" class=\"month\">\n<tr><th colspan=\"7\" class=\"month\">June 2020</th></tr>\n<tr><th class=\"mon\">Mon</th><th class=\"tue\">Tue</th><th class=\"wed\">Wed</th><th class=\"thu\">Thu</th><th class=\"fri\">Fri</th><th class=\"sat\">Sat</th><th class=\"sun\">Sun</th></tr>\n<tr><td class=\"mon\">1</td><td class=\"tue\">2</td><td class=\"wed\">3</td><td class=\"thu\">4</td><td class=\"fri\">5</td><td class=\"sat\">6</td><td class=\"sun\">7</td></tr>\n<tr><td class=\"mon\">8</td><td class=\"tue\">9</td><td class=\"wed\">10</td><td class=\"thu\">11</td><td class=\"fri\">12</td><td class=\"sat\">13</td><td class=\"sun\">14</td></tr>\n<tr><td class=\"mon\">15</td><td class=\"tue\">16</td><td class=\"wed\">17</td><td class=\"thu\">18</td><td class=\"fri\">19</td><td class=\"sat\">20</td><td class=\"sun\">21</td></tr>\n<tr><td class=\"mon\">22</td><td class=\"tue\">23</td><td class=\"wed\">24</td><td class=\"thu\">25</td><td class=\"fri\">26</td><td class=\"sat\">27</td><td class=\"sun\">28</td></tr>\n<tr><td class=\"mon\">29</td><td class=\"tue\">30</td><td class=\"noday\">&nbsp;</td><td class=\"noday\">&nbsp;</td><td class=\"noday\">&nbsp;</td><td class=\"noday\">&nbsp;</td><td class=\"noday\">&nbsp;</td></tr>\n</table>\n\n"
                }
            ],
            "source": "hc=calendar.HTMLCalendar(calendar.MONDAY)\nst=hc.formatmonth(2020, 6)\nprint(st)"
        },
        {
            "cell_type": "code",
            "execution_count": 102,
            "metadata": {},
            "outputs": [
                {
                    "name": "stdout",
                    "output_type": "stream",
                    "text": "1\n2\n3\n4\n5\n6\n7\n8\n9\n10\n11\n12\n13\n14\n15\n16\n17\n18\n19\n20\n21\n22\n23\n24\n25\n26\n27\n28\n29\n30\n0\n0\n0\n0\n0\n"
                }
            ],
            "source": "for i in c.itermonthdays(2020, 6):\n    print(i)"
        },
        {
            "cell_type": "code",
            "execution_count": 103,
            "metadata": {},
            "outputs": [
                {
                    "name": "stdout",
                    "output_type": "stream",
                    "text": "\nJanuary\nFebruary\nMarch\nApril\nMay\nJune\nJuly\nAugust\nSeptember\nOctober\nNovember\nDecember\nMonday\nTuesday\nWednesday\nThursday\nFriday\nSaturday\nSunday\n"
                }
            ],
            "source": "for name in calendar.month_name:\n    print(name)\nfor day in calendar.day_name:\n    print(day)"
        },
        {
            "cell_type": "code",
            "execution_count": 105,
            "metadata": {},
            "outputs": [
                {
                    "name": "stdout",
                    "output_type": "stream",
                    "text": "Team meetings will be on: \n   January  3\n  February  7\n     March  6\n     April  3\n       May  1\n      June  5\n      July  3\n    August  7\n September  4\n   October  2\n  November  6\n  December  4\n"
                }
            ],
            "source": "print(\"Team meetings will be on: \")\nfor m in range(1,13):\n    cal=calendar.monthcalendar(2020, m)\n    weekone=cal[0]\n    weektwo=cal[1]\n    \n    if weekone[calendar.FRIDAY]!=0:\n        meetday=weekone[calendar.FRIDAY]\n    else:\n        meetday=weektwo[calendar.FRIDAY]\n        \n    print(\"%10s %2d\" %(calendar.month_name[m], meetday))        "
        },
        {
            "cell_type": "markdown",
            "metadata": {},
            "source": "#### 1.8. Reading and Writing Files"
        },
        {
            "cell_type": "code",
            "execution_count": 106,
            "metadata": {},
            "outputs": [],
            "source": "f=open(\"textfile.txt\", \"w+\")                             #creating a text file\nfor i in range(10):\n    f.write(\"This is line \" + str(i) + \"\\r\\n\")\nf.close()    "
        },
        {
            "cell_type": "code",
            "execution_count": 108,
            "metadata": {},
            "outputs": [],
            "source": "f=open(\"textfile.txt\", \"a\")                              #appending the file\nfor i in range(10):\n    f.write(\"This is line \" + str(i) + \"\\r\\n\")\nf.close()"
        },
        {
            "cell_type": "code",
            "execution_count": 109,
            "metadata": {},
            "outputs": [
                {
                    "name": "stdout",
                    "output_type": "stream",
                    "text": "This is line 0\nThis is line 1\nThis is line 2\nThis is line 3\nThis is line 4\nThis is line 5\nThis is line 6\nThis is line 7\nThis is line 8\nThis is line 9\nThis is line 0\nThis is line 1\nThis is line 2\nThis is line 3\nThis is line 4\nThis is line 5\nThis is line 6\nThis is line 7\nThis is line 8\nThis is line 9\n\n"
                }
            ],
            "source": "f=open(\"textfile.txt\", \"r\")                             #reading the file  \nif f.mode=='r':                                         #making sure the file is in 'read' mode\n    contents=f.read()\n    print(contents)"
        },
        {
            "cell_type": "code",
            "execution_count": 111,
            "metadata": {},
            "outputs": [],
            "source": "if f.mode=='r':\n    fl=f.readlines()\n    for x in fl:\n        print(x)"
        },
        {
            "cell_type": "code",
            "execution_count": 124,
            "metadata": {},
            "outputs": [],
            "source": "import os\nfrom os import path\nimport datetime\nfrom datetime import date, time, timedelta\nimport time"
        },
        {
            "cell_type": "code",
            "execution_count": 125,
            "metadata": {},
            "outputs": [
                {
                    "name": "stdout",
                    "output_type": "stream",
                    "text": "posix\n"
                }
            ],
            "source": "print(os.name)"
        },
        {
            "cell_type": "code",
            "execution_count": 126,
            "metadata": {},
            "outputs": [
                {
                    "name": "stdout",
                    "output_type": "stream",
                    "text": "Item exists: True\nItem is a file: True\nItem is a directory: False\n"
                }
            ],
            "source": "print(\"Item exists: \" + str(path.exists(\"textfile.txt\")))              #check for item existence and type\nprint(\"Item is a file: \" + str(path.isfile(\"textfile.txt\")))\nprint(\"Item is a directory: \" + str(path.isdir(\"textfile.txt\")))"
        },
        {
            "cell_type": "code",
            "execution_count": 127,
            "metadata": {},
            "outputs": [
                {
                    "name": "stdout",
                    "output_type": "stream",
                    "text": "Item path: /home/dsxuser/work/textfile.txt\nItem path and name: ('/home/dsxuser/work', 'textfile.txt')\n"
                }
            ],
            "source": "print(\"Item path: \" + str(path.realpath(\"textfile.txt\")))                   #work with file paths\nprint(\"Item path and name: \" + str(path.split(path.realpath(\"textfile.txt\"))))"
        },
        {
            "cell_type": "code",
            "execution_count": 128,
            "metadata": {},
            "outputs": [
                {
                    "name": "stdout",
                    "output_type": "stream",
                    "text": "Wed Jun 17 19:03:48 2020\n2020-06-17 19:03:48.990995\n"
                }
            ],
            "source": "t=time.ctime(path.getmtime(\"textfile.txt\"))                            #det the modification time\nprint(t)\nprint(datetime.datetime.fromtimestamp(path.getmtime(\"textfile.txt\")))"
        },
        {
            "cell_type": "code",
            "execution_count": 131,
            "metadata": {},
            "outputs": [
                {
                    "name": "stdout",
                    "output_type": "stream",
                    "text": "It has been 0:20:56.787398 since the file was modified\nOr, 1256.787398 seconds\n"
                }
            ],
            "source": "td=datetime.datetime.now()-datetime.datetime.fromtimestamp(path.getmtime(\"textfile.txt\"))      #calculate how long ago was file modified\nprint(\"It has been \" + str(td) + \" since the file was modified\")\nprint(\"Or, \" + str(td.total_seconds()) + \" seconds\")"
        },
        {
            "cell_type": "code",
            "execution_count": 133,
            "metadata": {},
            "outputs": [],
            "source": "import shutil                                #using file system shell methods"
        },
        {
            "cell_type": "code",
            "execution_count": 137,
            "metadata": {},
            "outputs": [],
            "source": "if path.exists(\"textfile.txt\"):              #make a duplicate of an existing file\n    src=path.realpath(\"textfile.txt\")        #get the path to the file in the current directory\n    dst=src+\".bak\"                           #make a backup by appending '.bak' to the name\n    shutil.copy(src,dst)                     #copy over the permissions, modification  times and other info\n    shutil.copystat(src,dst)"
        },
        {
            "cell_type": "code",
            "execution_count": 138,
            "metadata": {},
            "outputs": [],
            "source": "os.rename(\"textfile.txt\", \"newfile.txt\")    #renaming the file"
        },
        {
            "cell_type": "code",
            "execution_count": 139,
            "metadata": {},
            "outputs": [],
            "source": "from shutil import make_archive"
        },
        {
            "cell_type": "code",
            "execution_count": 140,
            "metadata": {},
            "outputs": [
                {
                    "data": {
                        "text/plain": "'/home/dsxuser/work/archive.zip'"
                    },
                    "execution_count": 140,
                    "metadata": {},
                    "output_type": "execute_result"
                }
            ],
            "source": "root_dir, tail=path.split(src)              #put things into ZIP archive\nshutil.make_archive(\"archive\", \"zip\", root_dir)"
        },
        {
            "cell_type": "code",
            "execution_count": 141,
            "metadata": {},
            "outputs": [],
            "source": "from zipfile import ZipFile"
        },
        {
            "cell_type": "code",
            "execution_count": 143,
            "metadata": {},
            "outputs": [],
            "source": "with ZipFile(\"testzip.zip\", \"w\") as newzip:\n    newzip.write(\"newfile.txt\")\n    newzip.write(\"textfile.txt.bak\")"
        },
        {
            "cell_type": "markdown",
            "metadata": {},
            "source": "#### 1.9. Working with Web Data"
        },
        {
            "cell_type": "code",
            "execution_count": 144,
            "metadata": {},
            "outputs": [],
            "source": "import urllib.request"
        },
        {
            "cell_type": "code",
            "execution_count": 150,
            "metadata": {},
            "outputs": [
                {
                    "name": "stdout",
                    "output_type": "stream",
                    "text": "result code: 200\nb'<!doctype html><html itemscope=\"\" itemtype=\"http://schema.org/WebPage\" lang=\"en-ZA\"><head><meta content=\"text/html; charset=UTF-8\" http-equiv=\"Content-Type\"><meta content=\"/images/branding/googleg/1x/googleg_standard_color_128dp.png\" itemprop=\"image\"><title>Google</title><script nonce=\"aRxLoFPI3vx/meiwuV5ngg==\">(function(){window.google={kEI:\\'GXPqXvqjAbiAjLsPjtC3MA\\',kEXPI:\\'0,202123,3,4,32,1151584,5663,731,223,3657,1447,207,3204,10,1226,364,1119,380,576,241,383,246,5,700,654,196,965,533,273,1577,334,137,149,91,42,76,41,3,726,134,29,134,1122326,1197728,421,89,329029,1294,12383,4855,32692,15247,867,6056,22628,9188,8384,1325,3533,997,365,9290,3022,4746,6,11027,1808,4020,978,6242,1689,5297,2054,920,873,1217,2975,6430,11307,3220,4517,1397,1383,917,2277,8,85,4304,1279,390,1822,530,149,1103,840,517,1522,4258,312,1136,3,2669,1839,184,1777,143,377,1947,2229,93,328,1284,16,445,2482,2247,473,1346,741,1039,3229,2843,7,6068,6286,4454,642,2449,2459,1226,1743,3653,1275,108,591,853,1963,908,2,1473,532,1550,2149,248,1388,4031,916,1135,840,1337,1098,3,346,230,970,865,373,2177,1368,707,148,189,3078,234,503,1,724,234,580,8,439,30,128,1,2093,1991,1951,47,992,101,651,4,499,1029,17,684,241,353,1009,1238,269,562,312,405,41,1798,21,177,69,1849,331,41,567,233,195,722,10,42,75,4,135,497,610,95,1884,43,77,417,806,212,499,640,93,73,425,1593,743,1,252,40,386,708,879,86,3,753,740,237,1550,159,1262,5,93,69,745,95,801,842,2,37,602,621,524,22,31,521,238,7,245,939,2,2,829,14,657,981,987,2,176,745,2,3,180,3,21,41,236,2,101,452,30,199,3,3,70,216,5803216,1874,8800042,549,333,444,1,2,80,1,900,896,1,8,1,2,2551,1,748,141,59,736,563,1,4265,1,1,1,1,137,1,879,9,305,1351,102,999,5,195,1,29,32,3,6,20,1,3389534,113465,17238641,3220019\\',kBL:\\'ebyt\\'};google.sn=\\'webhp\\';google.kHL=\\'en-ZA\\';})();(function(){google.lc=[];google.li=0;google.getEI=function(a){for(var c;a&&(!a.getAttribute||!(c=a.getAttribute(\"eid\")));)a=a.parentNode;return c||google.kEI};google.getLEI=function(a){for(var c=null;a&&(!a.getAttribute||!(c=a.getAttribute(\"leid\")));)a=a.parentNode;return c};google.ml=function(){return null};google.time=function(){return Date.now()};google.log=function(a,c,b,d,g){if(b=google.logUrl(a,c,b,d,g)){a=new Image;var e=google.lc,f=google.li;e[f]=a;a.onerror=a.onload=a.onabort=function(){delete e[f]};google.vel&&google.vel.lu&&google.vel.lu(b);a.src=b;google.li=f+1}};google.logUrl=function(a,c,b,d,g){var e=\"\",f=google.ls||\"\";b||-1!=c.search(\"&ei=\")||(e=\"&ei=\"+google.getEI(d),-1==c.search(\"&lei=\")&&(d=google.getLEI(d))&&(e+=\"&lei=\"+d));d=\"\";!b&&google.cshid&&-1==c.search(\"&cshid=\")&&\"slh\"!=a&&(d=\"&cshid=\"+google.cshid);b=b||\"/\"+(g||\"gen_204\")+\"?atyp=i&ct=\"+a+\"&cad=\"+c+e+f+\"&zx=\"+google.time()+d;/^http:/i.test(b)&&\"https:\"==window.location.protocol&&(google.ml(Error(\"a\"),!1,{src:b,glmm:1}),b=\"\");return b};}).call(this);(function(){google.y={};google.x=function(a,b){if(a)var c=a.id;else{do c=Math.random();while(google.y[c])}google.y[c]=[a,b];return!1};google.lm=[];google.plm=function(a){google.lm.push.apply(google.lm,a)};google.lq=[];google.load=function(a,b,c){google.lq.push([[a],b,c])};google.loadAll=function(a,b){google.lq.push([a,b])};}).call(this);google.f={};(function(){\\ndocument.documentElement.addEventListener(\"submit\",function(b){var a;if(a=b.target){var c=a.getAttribute(\"data-submitfalse\");a=\"1\"==c||\"q\"==c&&!a.elements.q.value?!0:!1}else a=!1;a&&(b.preventDefault(),b.stopPropagation())},!0);document.documentElement.addEventListener(\"click\",function(b){var a;a:{for(a=b.target;a&&a!=document.documentElement;a=a.parentElement)if(\"A\"==a.tagName){a=\"1\"==a.getAttribute(\"data-nohref\");break a}a=!1}a&&b.preventDefault()},!0);}).call(this);\\nvar a=window.location,b=a.href.indexOf(\"#\");if(0<=b){var c=a.href.substring(b+1);/(^|&)q=/.test(c)&&-1==c.indexOf(\"#\")&&a.replace(\"/search?\"+c.replace(/(^|&)fp=[^&]*/g,\"\")+\"&cad=h\")};</script><style>#gbar,#guser{font-size:13px;padding-top:1px !important;}#gbar{height:22px}#guser{padding-bottom:7px !important;text-align:right}.gbh,.gbd{border-top:1px solid #c9d7f1;font-size:1px}.gbh{height:0;position:absolute;top:24px;width:100%}@media all{.gb1{height:22px;margin-right:.5em;vertical-align:top}#gbar{float:left}}a.gb1,a.gb4{text-decoration:underline !important}a.gb1,a.gb4{color:#00c !important}.gbi .gb4{color:#dd8e27 !important}.gbf .gb4{color:#900 !important}\\n</style><style>body,td,a,p,.h{font-family:arial,sans-serif}body{margin:0;overflow-y:scroll}#gog{padding:3px 8px 0}td{line-height:.8em}.gac_m td{line-height:17px}form{margin-bottom:20px}.h{color:#36c}.q{color:#00c}.ts td{padding:0}.ts{border-collapse:collapse}em{font-weight:bold;font-style:normal}.lst{height:25px;width:496px}.gsfi,.lst{font:18px arial,sans-serif}.gsfs{font:17px arial,sans-serif}.ds{display:inline-box;display:inline-block;margin:3px 0 4px;margin-left:4px}input{font-family:inherit}body{background:#fff;color:#000}a{color:#11c;text-decoration:none}a:hover,a:active{text-decoration:underline}.fl a{color:#36c}a:visited{color:#551a8b}.sblc{padding-top:5px}.sblc a{display:block;margin:2px 0;margin-left:13px;font-size:11px}.lsbb{background:#eee;border:solid 1px;border-color:#ccc #999 #999 #ccc;height:30px}.lsbb{display:block}.ftl,#fll a{display:inline-block;margin:0 12px}.lsb{background:url(/images/nav_logo229.png) 0 -261px repeat-x;border:none;color:#000;cursor:pointer;height:30px;margin:0;outline:0;font:15px arial,sans-serif;vertical-align:top}.lsb:active{background:#ccc}.lst:focus{outline:none}</style><script nonce=\"aRxLoFPI3vx/meiwuV5ngg==\"></script></head><body bgcolor=\"#fff\"><script nonce=\"aRxLoFPI3vx/meiwuV5ngg==\">(function(){var src=\\'/images/nav_logo229.png\\';var iesg=false;document.body.onload = function(){window.n && window.n();if (document.images){new Image().src=src;}\\nif (!iesg){document.f&&document.f.q.focus();document.gbqf&&document.gbqf.q.focus();}\\n}\\n})();</script><div id=\"mngb\"> <div id=gbar><nobr><b class=gb1>Search</b> <a class=gb1 href=\"https://www.google.co.za/imghp?hl=en&tab=wi\">Images</a> <a class=gb1 href=\"https://maps.google.co.za/maps?hl=en&tab=wl\">Maps</a> <a class=gb1 href=\"https://play.google.com/?hl=en&tab=w8\">Play</a> <a class=gb1 href=\"https://www.youtube.com/?gl=ZA&tab=w1\">YouTube</a> <a class=gb1 href=\"https://news.google.co.za/nwshp?hl=en&tab=wn\">News</a> <a class=gb1 href=\"https://mail.google.com/mail/?tab=wm\">Gmail</a> <a class=gb1 href=\"https://drive.google.com/?tab=wo\">Drive</a> <a class=gb1 style=\"text-decoration:none\" href=\"https://www.google.co.za/intl/en/about/products?tab=wh\"><u>More</u> &raquo;</a></nobr></div><div id=guser width=100%><nobr><span id=gbn class=gbi></span><span id=gbf class=gbf></span><span id=gbe></span><a href=\"http://www.google.co.za/history/optout?hl=en\" class=gb4>Web History</a> | <a  href=\"/preferences?hl=en\" class=gb4>Settings</a> | <a target=_top id=gb_70 href=\"https://accounts.google.com/ServiceLogin?hl=en&passive=true&continue=https://www.google.com/\" class=gb4>Sign in</a></nobr></div><div class=gbh style=left:0></div><div class=gbh style=right:0></div> </div><center><br clear=\"all\" id=\"lgpd\"><div id=\"lga\"><img alt=\"Google\" height=\"92\" src=\"/images/branding/googlelogo/1x/googlelogo_white_background_color_272x92dp.png\" style=\"padding:28px 0 14px\" width=\"272\" id=\"hplogo\"><br><br></div><form action=\"/search\" name=\"f\"><table cellpadding=\"0\" cellspacing=\"0\"><tr valign=\"top\"><td width=\"25%\">&nbsp;</td><td align=\"center\" nowrap=\"\"><input name=\"ie\" value=\"ISO-8859-1\" type=\"hidden\"><input value=\"en-ZA\" name=\"hl\" type=\"hidden\"><input name=\"source\" type=\"hidden\" value=\"hp\"><input name=\"biw\" type=\"hidden\"><input name=\"bih\" type=\"hidden\"><div class=\"ds\" style=\"height:32px;margin:4px 0\"><input class=\"lst\" style=\"margin:0;padding:5px 8px 0 6px;vertical-align:top;color:#000\" autocomplete=\"off\" value=\"\" title=\"Google Search\" maxlength=\"2048\" name=\"q\" size=\"57\"></div><br style=\"line-height:0\"><span class=\"ds\"><span class=\"lsbb\"><input class=\"lsb\" value=\"Google Search\" name=\"btnG\" type=\"submit\"></span></span><span class=\"ds\"><span class=\"lsbb\"><input class=\"lsb\" id=\"tsuid1\" value=\"I\\'m Feeling Lucky\" name=\"btnI\" type=\"submit\"><script nonce=\"aRxLoFPI3vx/meiwuV5ngg==\">(function(){var id=\\'tsuid1\\';document.getElementById(id).onclick = function(){if (this.form.q.value){this.checked = 1;if (this.form.iflsig)this.form.iflsig.disabled = false;}\\nelse top.location=\\'/doodles/\\';};})();</script><input value=\"AINFCbYAAAAAXuqBKQ-7-CkDxNrOKh7BWumWRGG6BQE1\" name=\"iflsig\" type=\"hidden\"></span></span></td><td class=\"fl sblc\" align=\"left\" nowrap=\"\" width=\"25%\"><a href=\"/advanced_search?hl=en-ZA&amp;authuser=0\">Advanced search</a></td></tr></table><input id=\"gbv\" name=\"gbv\" type=\"hidden\" value=\"1\"><script nonce=\"aRxLoFPI3vx/meiwuV5ngg==\">(function(){var a,b=\"1\";if(document&&document.getElementById)if(\"undefined\"!=typeof XMLHttpRequest)b=\"2\";else if(\"undefined\"!=typeof ActiveXObject){var c,d,e=[\"MSXML2.XMLHTTP.6.0\",\"MSXML2.XMLHTTP.3.0\",\"MSXML2.XMLHTTP\",\"Microsoft.XMLHTTP\"];for(c=0;d=e[c++];)try{new ActiveXObject(d),b=\"2\"}catch(h){}}a=b;if(\"2\"==a&&-1==location.search.indexOf(\"&gbv=2\")){var f=google.gbvu,g=document.getElementById(\"gbv\");g&&(g.value=a);f&&window.setTimeout(function(){location.href=f},0)};}).call(this);</script></form><div id=\"gac_scont\"></div><div style=\"font-size:83%;min-height:3.5em\"><br><div id=\"gws-output-pages-elements-homepage_additional_languages__als\"><style>#gws-output-pages-elements-homepage_additional_languages__als{font-size:small;margin-bottom:24px}#SIvCob{display:inline-block;line-height:28px;}#SIvCob a{padding:0 3px;}.H6sW5{display:inline-block;margin:0 2px;white-space:nowrap}.z4hgWe{display:inline-block;margin:0 2px}</style><div id=\"SIvCob\">Google offered in:  <a href=\"https://www.google.com/setprefs?sig=0_kn6NuL_uNusu_4tg80K13nutniw%3D&amp;hl=af&amp;source=homepage&amp;sa=X&amp;ved=0ahUKEwi6lILWzonqAhU4AGMBHQ7oDQYQ2ZgBCAU\">Afrikaans</a>    <a href=\"https://www.google.com/setprefs?sig=0_kn6NuL_uNusu_4tg80K13nutniw%3D&amp;hl=st&amp;source=homepage&amp;sa=X&amp;ved=0ahUKEwi6lILWzonqAhU4AGMBHQ7oDQYQ2ZgBCAY\">Sesotho</a>    <a href=\"https://www.google.com/setprefs?sig=0_kn6NuL_uNusu_4tg80K13nutniw%3D&amp;hl=zu&amp;source=homepage&amp;sa=X&amp;ved=0ahUKEwi6lILWzonqAhU4AGMBHQ7oDQYQ2ZgBCAc\">isiZulu</a>    <a href=\"https://www.google.com/setprefs?sig=0_kn6NuL_uNusu_4tg80K13nutniw%3D&amp;hl=xh&amp;source=homepage&amp;sa=X&amp;ved=0ahUKEwi6lILWzonqAhU4AGMBHQ7oDQYQ2ZgBCAg\">IsiXhosa</a>    <a href=\"https://www.google.com/setprefs?sig=0_kn6NuL_uNusu_4tg80K13nutniw%3D&amp;hl=tn&amp;source=homepage&amp;sa=X&amp;ved=0ahUKEwi6lILWzonqAhU4AGMBHQ7oDQYQ2ZgBCAk\">Setswana</a>    <a href=\"https://www.google.com/setprefs?sig=0_kn6NuL_uNusu_4tg80K13nutniw%3D&amp;hl=nso&amp;source=homepage&amp;sa=X&amp;ved=0ahUKEwi6lILWzonqAhU4AGMBHQ7oDQYQ2ZgBCAo\">Northern Sotho</a>  </div></div></div><span id=\"footer\"><div style=\"font-size:10pt\"><div style=\"margin:19px auto;text-align:center\" id=\"fll\"><a href=\"/intl/en/ads/\">Advertising\\xa0Programs</a><a href=\"http://www.google.co.za/intl/en/services/\">Business Solutions</a><a href=\"/intl/en/about.html\">About Google</a><a href=\"https://www.google.com/setprefdomain?prefdom=ZA&amp;prev=https://www.google.co.za/&amp;sig=K_GeDXs8ZTFz30VHjnybx6LSHP02k%3D\">Google.co.za</a></div></div><p style=\"font-size:8pt;color:#767676\">&copy; 2020 - <a href=\"/intl/en/policies/privacy/\">Privacy</a> - <a href=\"/intl/en/policies/terms/\">Terms</a></p></span></center><script nonce=\"aRxLoFPI3vx/meiwuV5ngg==\">(function(){window.google.cdo={height:0,width:0};(function(){var a=window.innerWidth,b=window.innerHeight;if(!a||!b){var c=window.document,d=\"CSS1Compat\"==c.compatMode?c.documentElement:c.body;a=d.clientWidth;b=d.clientHeight}a&&b&&(a!=google.cdo.width||b!=google.cdo.height)&&google.log(\"\",\"\",\"/client_204?&atyp=i&biw=\"+a+\"&bih=\"+b+\"&ei=\"+google.kEI);}).call(this);})();(function(){var u=\\'/xjs/_/js/k\\\\x3dxjs.hp.en.gXIbnxsdgOk.O/m\\\\x3dsb_he,d/am\\\\x3dAC8ENgc/d\\\\x3d1/rs\\\\x3dACT90oHjVCKhLjAM8wLnw2o1SrQwj_1ybA\\';\\nsetTimeout(function(){var b=document;var a=\"SCRIPT\";\"application/xhtml+xml\"===b.contentType&&(a=a.toLowerCase());a=b.createElement(a);a.src=u;google.timers&&google.timers.load&&google.tick&&google.tick(\"load\",\"xjsls\");document.body.appendChild(a)},0);})();(function(){window.google.xjsu=\\'/xjs/_/js/k\\\\x3dxjs.hp.en.gXIbnxsdgOk.O/m\\\\x3dsb_he,d/am\\\\x3dAC8ENgc/d\\\\x3d1/rs\\\\x3dACT90oHjVCKhLjAM8wLnw2o1SrQwj_1ybA\\';})();function _DumpException(e){throw e;}\\nfunction _F_installCss(c){}\\n(function(){google.jl={dw:false,em:[],emw:false,lls:\\'default\\',pdt:0,snet:true,uwp:true};})();(function(){var pmc=\\'{\\\\x22d\\\\x22:{},\\\\x22sb_he\\\\x22:{\\\\x22agen\\\\x22:true,\\\\x22cgen\\\\x22:true,\\\\x22client\\\\x22:\\\\x22heirloom-hp\\\\x22,\\\\x22dh\\\\x22:true,\\\\x22dhqt\\\\x22:true,\\\\x22ds\\\\x22:\\\\x22\\\\x22,\\\\x22ffql\\\\x22:\\\\x22en\\\\x22,\\\\x22fl\\\\x22:true,\\\\x22host\\\\x22:\\\\x22google.com\\\\x22,\\\\x22isbh\\\\x22:28,\\\\x22jsonp\\\\x22:true,\\\\x22msgs\\\\x22:{\\\\x22cibl\\\\x22:\\\\x22Clear Search\\\\x22,\\\\x22dym\\\\x22:\\\\x22Did you mean:\\\\x22,\\\\x22lcky\\\\x22:\\\\x22I\\\\\\\\u0026#39;m Feeling Lucky\\\\x22,\\\\x22lml\\\\x22:\\\\x22Learn more\\\\x22,\\\\x22oskt\\\\x22:\\\\x22Input tools\\\\x22,\\\\x22psrc\\\\x22:\\\\x22This search was removed from your \\\\\\\\u003Ca href\\\\x3d\\\\\\\\\\\\x22/history\\\\\\\\\\\\x22\\\\\\\\u003EWeb History\\\\\\\\u003C/a\\\\\\\\u003E\\\\x22,\\\\x22psrl\\\\x22:\\\\x22Remove\\\\x22,\\\\x22sbit\\\\x22:\\\\x22Search by image\\\\x22,\\\\x22srch\\\\x22:\\\\x22Google Search\\\\x22},\\\\x22ovr\\\\x22:{},\\\\x22pq\\\\x22:\\\\x22\\\\x22,\\\\x22refpd\\\\x22:true,\\\\x22rfs\\\\x22:[],\\\\x22sbpl\\\\x22:16,\\\\x22sbpr\\\\x22:16,\\\\x22scd\\\\x22:10,\\\\x22stok\\\\x22:\\\\x22CZp7I4R2SVxotTWFYP5mw8VFYBc\\\\x22,\\\\x22uhde\\\\x22:false}}\\';google.pmc=JSON.parse(pmc);})();</script>        </body></html>'\n"
                }
            ],
            "source": "def main():\n    webUrl=urllib.request.urlopen(\"https://www.google.com\")\n    print(\"result code: \" + str(webUrl.getcode()))   \n    data=webUrl.read()\n    print(data)\nmain()"
        },
        {
            "cell_type": "code",
            "execution_count": null,
            "metadata": {},
            "outputs": [],
            "source": ""
        },
        {
            "cell_type": "code",
            "execution_count": null,
            "metadata": {},
            "outputs": [],
            "source": ""
        }
    ],
    "metadata": {
        "kernelspec": {
            "display_name": "Python 3.6",
            "language": "python",
            "name": "python3"
        },
        "language_info": {
            "codemirror_mode": {
                "name": "ipython",
                "version": 3
            },
            "file_extension": ".py",
            "mimetype": "text/x-python",
            "name": "python",
            "nbconvert_exporter": "python",
            "pygments_lexer": "ipython3",
            "version": "3.6.9"
        }
    },
    "nbformat": 4,
    "nbformat_minor": 1
}
